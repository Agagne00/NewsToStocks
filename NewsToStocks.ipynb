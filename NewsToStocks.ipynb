{
 "cells": [
  {
   "cell_type": "code",
   "execution_count": null,
   "id": "c873a681",
   "metadata": {},
   "outputs": [],
   "source": [
    "# need to import several libraries for SQL, APIs, and plotting results.\n",
    "\n",
    "def LoadNewsArticles(str startdate, str enddate):\n",
    "    # Use NewsAPI to search for all articles between the startdate and enddate.  Store dates in ISO 8601 format.\n",
    "    # For each one, determine the applicable company with the EstimateCompany method\n",
    "    # call the GetStockData method, then put the applicable information into the database using SQL methods/syntax.\n",
    "    # TODO: Complete this method.\n",
    "    \n",
    "def EstimateCompany(str title, str text):\n",
    "    # receive the title of an article.  For each name in the Stocks table of the database, count the number of instances of\n",
    "    # that company's name in the title and text.  Return the name of the stock AND its symbol.\n",
    "    # TODO: Complete this method.\n",
    "    \n",
    "def GetStockData(str symbol, str date):\n",
    "    # Use the stock tracker API to pull information about the specified stock around the specified date.\n",
    "    # Store the date in ISO 8601 format.  Return ALL applicable info about the price of that stock around that date.\n",
    "    # (i.e. if we're doing pre-article/post-article/7/14/21/28 days later, return those values in an array.)\n",
    "    # TODO: Complete this method.\n",
    "    \n",
    "def EstimateEffect(str title, str text, str symbol):\n",
    "    # Given a title, text, and company symbol, estimate the effect of the article on the specified stock at 0/7/14/21/28 days.\n",
    "    # Generate a graph showing these estimated changes, compared to the stock's current price.\n",
    "    # (Possibly figure a way to use error bars for estimates.)\n",
    "    # TODO: Complete this method.\n",
    "\n",
    "    \n",
    "#There are many other potentially useful functions that we could make and use.  If anyone has ideas, feel free to add them."
   ]
  }
 ],
 "metadata": {
  "kernelspec": {
   "display_name": "Python 3 (ipykernel)",
   "language": "python",
   "name": "python3"
  },
  "language_info": {
   "codemirror_mode": {
    "name": "ipython",
    "version": 3
   },
   "file_extension": ".py",
   "mimetype": "text/x-python",
   "name": "python",
   "nbconvert_exporter": "python",
   "pygments_lexer": "ipython3",
   "version": "3.9.13"
  }
 },
 "nbformat": 4,
 "nbformat_minor": 5
}
